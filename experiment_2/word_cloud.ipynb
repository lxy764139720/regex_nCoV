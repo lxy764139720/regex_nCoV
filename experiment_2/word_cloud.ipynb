{
 "cells": [
  {
   "cell_type": "code",
   "execution_count": 1,
   "metadata": {
    "collapsed": true
   },
   "outputs": [],
   "source": [
    "import pandas as pd\n",
    "import numpy as np\n",
    "import jieba\n",
    "import jieba.posseg as pseg\n",
    "import wordcloud\n",
    "import matplotlib.pyplot as plt"
   ]
  },
  {
   "cell_type": "code",
   "execution_count": 2,
   "outputs": [
    {
     "data": {
      "text/plain": "                     时间    排名                热搜内容        地域              主题  \\\n897 2020-01-09 12:00:00   7.0  武汉不明原因肺炎病原体为新型冠状病毒  国内-湖北-武汉           疫情-知识   \n896 2020-01-11 12:00:00  48.0        专家解读武汉不明原因肺炎        国内        专家|疫情-知识   \n895 2020-01-14 12:00:00   8.0      泰国发现1例新型冠状病毒病例     国外-泰国           疫情-新增   \n894 2020-01-15 12:00:00  14.0      武汉肺炎不排除有限人传人可能  国内-湖北-武汉           疫情-知识   \n893 2020-01-15 12:00:00   8.0     泰国新型冠状病毒病例为武汉游客     国外-泰国           疫情-新增   \n..                  ...   ...                 ...       ...             ...   \n24  2020-02-21 12:00:00  44.0        西藏连续22天无新增病例     国内-西藏           疫情-稳定   \n26  2020-02-21 12:00:00  48.0         威斯特丹号全员检测阴性     国外-游轮  疫情-新增|资讯-威斯特丹号   \n27  2020-02-21 12:00:00  49.0         河南学校3月1日后开学     国内-河南           复工-开学   \n14  2020-02-21 12:00:00  25.0         浙江新增28例新型肺炎     国内-浙江           疫情-新增   \n0   2020-02-21 12:00:00   1.0          韩国确认发生超级传播     国外-韩国           疫情-新增   \n\n                    上榜时间                 最后时间  Unnamed: 7 Unnamed: 8  \\\n897      2020/1/9\\n17:36  2020-01-09 08:38:00         NaN        NaN   \n896  2020-01-11 14:50:00      2020/1/11\\n8:18         NaN        NaN   \n895  2020-01-14 20:30:00     2020/1/14\\n11:42         NaN        NaN   \n894  2020-01-15 13:40:00      2020/1/15\\n7:52         NaN        NaN   \n893  2020-01-15 15:00:00      2020/1/15\\n8:04         NaN        NaN   \n..                   ...                  ...         ...        ...   \n24   2020-02-21 12:18:00     2020/2/21\\n11:48         NaN        NaN   \n26   2020-02-21 12:04:00     2020/2/21\\n11:12         NaN        NaN   \n27   2020-02-21 12:38:00      2020/2/21\\n7:20         NaN        NaN   \n14   2020-02-21 13:52:00      2020/2/21\\n9:38         NaN        NaN   \n0    2020-02-21 17:26:00      2020/2/21\\n7:46         NaN        NaN   \n\n    Unnamed: 9  \n897        NaN  \n896        NaN  \n895        NaN  \n894        NaN  \n893        NaN  \n..         ...  \n24         NaN  \n26         NaN  \n27         NaN  \n14         NaN  \n0          NaN  \n\n[896 rows x 10 columns]",
      "text/html": "<div>\n<style scoped>\n    .dataframe tbody tr th:only-of-type {\n        vertical-align: middle;\n    }\n\n    .dataframe tbody tr th {\n        vertical-align: top;\n    }\n\n    .dataframe thead th {\n        text-align: right;\n    }\n</style>\n<table border=\"1\" class=\"dataframe\">\n  <thead>\n    <tr style=\"text-align: right;\">\n      <th></th>\n      <th>时间</th>\n      <th>排名</th>\n      <th>热搜内容</th>\n      <th>地域</th>\n      <th>主题</th>\n      <th>上榜时间</th>\n      <th>最后时间</th>\n      <th>Unnamed: 7</th>\n      <th>Unnamed: 8</th>\n      <th>Unnamed: 9</th>\n    </tr>\n  </thead>\n  <tbody>\n    <tr>\n      <th>897</th>\n      <td>2020-01-09 12:00:00</td>\n      <td>7.0</td>\n      <td>武汉不明原因肺炎病原体为新型冠状病毒</td>\n      <td>国内-湖北-武汉</td>\n      <td>疫情-知识</td>\n      <td>2020/1/9\\n17:36</td>\n      <td>2020-01-09 08:38:00</td>\n      <td>NaN</td>\n      <td>NaN</td>\n      <td>NaN</td>\n    </tr>\n    <tr>\n      <th>896</th>\n      <td>2020-01-11 12:00:00</td>\n      <td>48.0</td>\n      <td>专家解读武汉不明原因肺炎</td>\n      <td>国内</td>\n      <td>专家|疫情-知识</td>\n      <td>2020-01-11 14:50:00</td>\n      <td>2020/1/11\\n8:18</td>\n      <td>NaN</td>\n      <td>NaN</td>\n      <td>NaN</td>\n    </tr>\n    <tr>\n      <th>895</th>\n      <td>2020-01-14 12:00:00</td>\n      <td>8.0</td>\n      <td>泰国发现1例新型冠状病毒病例</td>\n      <td>国外-泰国</td>\n      <td>疫情-新增</td>\n      <td>2020-01-14 20:30:00</td>\n      <td>2020/1/14\\n11:42</td>\n      <td>NaN</td>\n      <td>NaN</td>\n      <td>NaN</td>\n    </tr>\n    <tr>\n      <th>894</th>\n      <td>2020-01-15 12:00:00</td>\n      <td>14.0</td>\n      <td>武汉肺炎不排除有限人传人可能</td>\n      <td>国内-湖北-武汉</td>\n      <td>疫情-知识</td>\n      <td>2020-01-15 13:40:00</td>\n      <td>2020/1/15\\n7:52</td>\n      <td>NaN</td>\n      <td>NaN</td>\n      <td>NaN</td>\n    </tr>\n    <tr>\n      <th>893</th>\n      <td>2020-01-15 12:00:00</td>\n      <td>8.0</td>\n      <td>泰国新型冠状病毒病例为武汉游客</td>\n      <td>国外-泰国</td>\n      <td>疫情-新增</td>\n      <td>2020-01-15 15:00:00</td>\n      <td>2020/1/15\\n8:04</td>\n      <td>NaN</td>\n      <td>NaN</td>\n      <td>NaN</td>\n    </tr>\n    <tr>\n      <th>...</th>\n      <td>...</td>\n      <td>...</td>\n      <td>...</td>\n      <td>...</td>\n      <td>...</td>\n      <td>...</td>\n      <td>...</td>\n      <td>...</td>\n      <td>...</td>\n      <td>...</td>\n    </tr>\n    <tr>\n      <th>24</th>\n      <td>2020-02-21 12:00:00</td>\n      <td>44.0</td>\n      <td>西藏连续22天无新增病例</td>\n      <td>国内-西藏</td>\n      <td>疫情-稳定</td>\n      <td>2020-02-21 12:18:00</td>\n      <td>2020/2/21\\n11:48</td>\n      <td>NaN</td>\n      <td>NaN</td>\n      <td>NaN</td>\n    </tr>\n    <tr>\n      <th>26</th>\n      <td>2020-02-21 12:00:00</td>\n      <td>48.0</td>\n      <td>威斯特丹号全员检测阴性</td>\n      <td>国外-游轮</td>\n      <td>疫情-新增|资讯-威斯特丹号</td>\n      <td>2020-02-21 12:04:00</td>\n      <td>2020/2/21\\n11:12</td>\n      <td>NaN</td>\n      <td>NaN</td>\n      <td>NaN</td>\n    </tr>\n    <tr>\n      <th>27</th>\n      <td>2020-02-21 12:00:00</td>\n      <td>49.0</td>\n      <td>河南学校3月1日后开学</td>\n      <td>国内-河南</td>\n      <td>复工-开学</td>\n      <td>2020-02-21 12:38:00</td>\n      <td>2020/2/21\\n7:20</td>\n      <td>NaN</td>\n      <td>NaN</td>\n      <td>NaN</td>\n    </tr>\n    <tr>\n      <th>14</th>\n      <td>2020-02-21 12:00:00</td>\n      <td>25.0</td>\n      <td>浙江新增28例新型肺炎</td>\n      <td>国内-浙江</td>\n      <td>疫情-新增</td>\n      <td>2020-02-21 13:52:00</td>\n      <td>2020/2/21\\n9:38</td>\n      <td>NaN</td>\n      <td>NaN</td>\n      <td>NaN</td>\n    </tr>\n    <tr>\n      <th>0</th>\n      <td>2020-02-21 12:00:00</td>\n      <td>1.0</td>\n      <td>韩国确认发生超级传播</td>\n      <td>国外-韩国</td>\n      <td>疫情-新增</td>\n      <td>2020-02-21 17:26:00</td>\n      <td>2020/2/21\\n7:46</td>\n      <td>NaN</td>\n      <td>NaN</td>\n      <td>NaN</td>\n    </tr>\n  </tbody>\n</table>\n<p>896 rows × 10 columns</p>\n</div>"
     },
     "execution_count": 2,
     "metadata": {},
     "output_type": "execute_result"
    }
   ],
   "source": [
    "df = pd.read_excel('weibo.xlsx')\n",
    "df=df[~(df['时间'].isnull())]    #删掉空行\n",
    "df = df.sort_values(by='时间')\n",
    "df"
   ],
   "metadata": {
    "collapsed": false,
    "pycharm": {
     "name": "#%%\n"
    }
   }
  },
  {
   "cell_type": "code",
   "execution_count": 3,
   "outputs": [],
   "source": [
    "theme = df['主题']\n",
    "content = df['热搜内容']\n",
    "location = df['地域']\n",
    "time = df['时间']"
   ],
   "metadata": {
    "collapsed": false,
    "pycharm": {
     "name": "#%%\n"
    }
   }
  },
  {
   "cell_type": "code",
   "execution_count": 4,
   "outputs": [
    {
     "name": "stderr",
     "output_type": "stream",
     "text": [
      "Building prefix dict from the default dictionary ...\n",
      "Loading model from cache C:\\Users\\lxy\\AppData\\Local\\Temp\\jieba.cache\n",
      "Loading model cost 1.694 seconds.\n",
      "Prefix dict has been built successfully.\n"
     ]
    }
   ],
   "source": [
    "entity_list = ['新型冠状病毒/8/nz', '冠状病毒/8/nz','疫情地图/8/nz','武汉肺炎/8/nz','人传人','病毒/8/nz','疫情/8/nz',\n",
    "               '病例','新冠/8/nz', 'SARS/8/nz','隔离', '口罩', '卫健委/5/nt','双黄连/8/nz','埃博拉/3/nz','瑞德西韦/5/nz',\n",
    "           '金银潭/5/nz','百步亭/5/nz','火神山/5/nz','雷神山/5/nz','张家界/5/ns', '小汤山/5/nz','威斯特丹号/5/nz','钻石公主号/5/nz',\n",
    "               '方舱医院/5/nz','同济医院/3/nz','协和医院/3/nz','紫外线', '蝙蝠/3/nz','酒精','消毒','确诊','连闯/2/v',\n",
    "               '康复/3/n','封城/3/n','汤圆/3/n', '武软/3/nt', '红十字会/3/nt', '马拉松/3/n', '小姐姐/3/r',\n",
    "               '医护人员/5/nr','医疗队/5/nr','医院院长/5/nr','张定宇/5/nr','护士/5/nr','医生/5/nr',\n",
    "               '钟南山/5/nr', '李兰娟/5/nr','李文亮/5/nr', '应勇/5/nr','王贺胜/5/nr', '王忠林/5/nr']\n",
    "for w in entity_list:\n",
    "    w_list = w.split('/')\n",
    "    freq, tag = 1, None\n",
    "    if len(w_list) > 1:\n",
    "        freq = w_list[1]    # [word freq]\n",
    "    if len(w_list) > 2:\n",
    "        tag = w_list[2] # [word freq tag]\n",
    "    #jieba.add_word(w)\n",
    "    jieba.add_word(w_list[0], freq=freq, tag=tag)"
   ],
   "metadata": {
    "collapsed": false,
    "pycharm": {
     "name": "#%%\n"
    }
   }
  },
  {
   "cell_type": "code",
   "execution_count": 5,
   "outputs": [],
   "source": [
    "# 总体字典\n",
    "epidemic_v = {}\n",
    "epidemic_n = {}\n",
    "gov_v = {}\n",
    "gov_n = {}\n",
    "\n",
    "# 每日列表\n",
    "daily_epidemic_v = []\n",
    "daily_epidemic_n = []\n",
    "daily_gov_v = []\n",
    "daily_gov_n = []\n",
    "\n",
    "now_time = time.iloc[0]\n",
    "for i in range(len(theme)):\n",
    "    theme_i = theme.iloc[i][:2]\n",
    "    content_i = content.iloc[i]\n",
    "    location_i = location.iloc[i]\n",
    "    time_i = str(time.iloc[i]).split(\" \")[0]\n",
    "    if time_i != now_time:\n",
    "        # 如果是同一天则加入同一个每日列表\n",
    "        # 如果不是同一天则将该行数组拼接为字符串作为字典值\n",
    "        epidemic_v[time_i] = ' '.join(daily_epidemic_v)\n",
    "        epidemic_n[time_i] = ' '.join(daily_epidemic_n)\n",
    "        gov_v[time_i] = ' '.join(daily_gov_v)\n",
    "        gov_n[time_i] = ' '.join(daily_gov_n)\n",
    "        # 然后清空每日列表\n",
    "        daily_epidemic_v = []\n",
    "        daily_epidemic_n = []\n",
    "        daily_gov_v = []\n",
    "        daily_gov_n = []\n",
    "\n",
    "    words = pseg.cut(content_i)\n",
    "    for word, lexical in words:\n",
    "        if len(word) > 1:\n",
    "            if '疫情' in theme_i:\n",
    "                if lexical.startswith('n'):\n",
    "                    daily_epidemic_n.append(word)\n",
    "                if lexical.startswith('v'):\n",
    "                    daily_epidemic_v.append(word)\n",
    "            if '政府' in theme_i:\n",
    "                if lexical.startswith('n'):\n",
    "                    daily_gov_n.append(word)\n",
    "                if lexical.startswith('v'):\n",
    "                    daily_gov_v.append(word)\n",
    "    now_time = time_i"
   ],
   "metadata": {
    "collapsed": false,
    "pycharm": {
     "name": "#%%\n"
    }
   }
  },
  {
   "cell_type": "code",
   "execution_count": 8,
   "outputs": [
    {
     "data": {
      "text/plain": "<wordcloud.wordcloud.WordCloud at 0x1a62812ddc0>"
     },
     "execution_count": 8,
     "metadata": {},
     "output_type": "execute_result"
    }
   ],
   "source": [
    "# 所有疫情主题词云\n",
    "text_epidemic_v_all = ' '.join(list(epidemic_v.values()))\n",
    "font = 'C:\\\\Windows\\\\Fonts\\\\YaHei Consolas Hybrid 1.12.ttf'\n",
    "mask = plt.imread('china.jpg')\n",
    "wc = wordcloud.WordCloud(background_color='white', font_path=font, mask=mask, max_words=20)\n",
    "wc.generate(text_epidemic_v_all)\n",
    "wc.to_file('疫情-动词-全部.jpg')"
   ],
   "metadata": {
    "collapsed": false,
    "pycharm": {
     "name": "#%%\n"
    }
   }
  }
 ],
 "metadata": {
  "kernelspec": {
   "display_name": "Python 3",
   "language": "python",
   "name": "python3"
  },
  "language_info": {
   "codemirror_mode": {
    "name": "ipython",
    "version": 2
   },
   "file_extension": ".py",
   "mimetype": "text/x-python",
   "name": "python",
   "nbconvert_exporter": "python",
   "pygments_lexer": "ipython2",
   "version": "2.7.6"
  }
 },
 "nbformat": 4,
 "nbformat_minor": 0
}