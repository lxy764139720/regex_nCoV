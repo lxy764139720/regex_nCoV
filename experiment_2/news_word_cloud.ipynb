{
 "cells": [
  {
   "cell_type": "code",
   "execution_count": 8,
   "metadata": {
    "collapsed": true
   },
   "outputs": [],
   "source": [
    "import numpy as np\n",
    "import pandas as pd\n",
    "import jieba\n",
    "import wordcloud\n",
    "import matplotlib.pyplot as plt"
   ]
  },
  {
   "cell_type": "code",
   "execution_count": 3,
   "outputs": [
    {
     "data": {
      "text/plain": "         date                                               text  \\\n0    20210311  3月7日，习近平总书记在参加青海代表团审议时强调，高质量发展不只是一个经济要求，而是对经济社...   \n1    20210312  编者按：把握新发展阶段、贯彻新发展理念、构建新发展格局，是积极应对国际国内形势变化，与时俱进...   \n2    20210311  全国两会期间，习近平总书记在参加内蒙古代表团审议、青海代表团审议时，围绕党史学习教育发表了重...   \n3    20210311  人民网北京3月11日电（吴兆飞）今年是“十四五”开局之年，围绕民营经济发展，“十四五”规划纲...   \n4    20210311  人民网北京3月11日电（吴兆飞）“十四五”规划纲要草案提出，坚持创新在我国现代化建设全局中的...   \n..        ...                                                ...   \n193  20210311  新华社北京3月10日电十三届全国人大四次会议11日上午举行代表小组会议，审议关于政府工作报告...   \n194  20210311  今年两会，人民日报海外版、海外网精心策划推出“驻华大使看两会”融媒体栏目，邀请白俄罗斯、克罗...   \n195  20210311  凝聚砥砺奋进的精神力量本报记者易舒冉今年全国两会，我参加了“委员通道”的采访，有幸在现场看到...   \n196  20210307  健全动态监测稳定增加收入本报记者王明峰截至2020年底，四川省共有脱贫不稳定户和边缘易致贫户...   \n197  20210307  据新华社北京电（记者石龙洪、周文其）多位在北京出席全国两会的港区代表委员３月5日接受新华社记...   \n\n                         title  \\\n0                 坚定不移走高质量发展之路   \n1          新阶段中开新局新发展理念引领高质量发展   \n2                 学党史悟思想办实事开新局   \n3     章锋代表：以产业报国为己任新征程上民营企业不缺位   \n4      冯丹代表：瞄准科技前沿做“顶天立地”的科学研究   \n..                         ...   \n193            十三届全国人大四次会议今日闭幕   \n194              讲述故事回应关切（融看台）   \n195                 务实的大会奋斗的中国   \n196  新生活新奋斗绘就壮美画卷（经济新方位·全媒看两会）   \n197   完善选举制度是确保“一国两制”行稳致远的治本之策   \n\n                                                   url  \n0    http://lianghui.people.com.cn/2021npc/n1/2021/...  \n1    http://lianghui.people.com.cn/2021npc/n1/2021/...  \n2    http://lianghui.people.com.cn/2021npc/n1/2021/...  \n3    http://lianghui.people.com.cn/2021npc/n1/2021/...  \n4    http://lianghui.people.com.cn/2021npc/n1/2021/...  \n..                                                 ...  \n193  http://lianghui.people.com.cn/2021npc/n1/2021/...  \n194  http://lianghui.people.com.cn/2021npc/n1/2021/...  \n195  http://lianghui.people.com.cn/2021npc/n1/2021/...  \n196  http://lianghui.people.com.cn/2021npc/n1/2021/...  \n197  http://lianghui.people.com.cn/2021npc/n1/2021/...  \n\n[198 rows x 4 columns]",
      "text/html": "<div>\n<style scoped>\n    .dataframe tbody tr th:only-of-type {\n        vertical-align: middle;\n    }\n\n    .dataframe tbody tr th {\n        vertical-align: top;\n    }\n\n    .dataframe thead th {\n        text-align: right;\n    }\n</style>\n<table border=\"1\" class=\"dataframe\">\n  <thead>\n    <tr style=\"text-align: right;\">\n      <th></th>\n      <th>date</th>\n      <th>text</th>\n      <th>title</th>\n      <th>url</th>\n    </tr>\n  </thead>\n  <tbody>\n    <tr>\n      <th>0</th>\n      <td>20210311</td>\n      <td>3月7日，习近平总书记在参加青海代表团审议时强调，高质量发展不只是一个经济要求，而是对经济社...</td>\n      <td>坚定不移走高质量发展之路</td>\n      <td>http://lianghui.people.com.cn/2021npc/n1/2021/...</td>\n    </tr>\n    <tr>\n      <th>1</th>\n      <td>20210312</td>\n      <td>编者按：把握新发展阶段、贯彻新发展理念、构建新发展格局，是积极应对国际国内形势变化，与时俱进...</td>\n      <td>新阶段中开新局新发展理念引领高质量发展</td>\n      <td>http://lianghui.people.com.cn/2021npc/n1/2021/...</td>\n    </tr>\n    <tr>\n      <th>2</th>\n      <td>20210311</td>\n      <td>全国两会期间，习近平总书记在参加内蒙古代表团审议、青海代表团审议时，围绕党史学习教育发表了重...</td>\n      <td>学党史悟思想办实事开新局</td>\n      <td>http://lianghui.people.com.cn/2021npc/n1/2021/...</td>\n    </tr>\n    <tr>\n      <th>3</th>\n      <td>20210311</td>\n      <td>人民网北京3月11日电（吴兆飞）今年是“十四五”开局之年，围绕民营经济发展，“十四五”规划纲...</td>\n      <td>章锋代表：以产业报国为己任新征程上民营企业不缺位</td>\n      <td>http://lianghui.people.com.cn/2021npc/n1/2021/...</td>\n    </tr>\n    <tr>\n      <th>4</th>\n      <td>20210311</td>\n      <td>人民网北京3月11日电（吴兆飞）“十四五”规划纲要草案提出，坚持创新在我国现代化建设全局中的...</td>\n      <td>冯丹代表：瞄准科技前沿做“顶天立地”的科学研究</td>\n      <td>http://lianghui.people.com.cn/2021npc/n1/2021/...</td>\n    </tr>\n    <tr>\n      <th>...</th>\n      <td>...</td>\n      <td>...</td>\n      <td>...</td>\n      <td>...</td>\n    </tr>\n    <tr>\n      <th>193</th>\n      <td>20210311</td>\n      <td>新华社北京3月10日电十三届全国人大四次会议11日上午举行代表小组会议，审议关于政府工作报告...</td>\n      <td>十三届全国人大四次会议今日闭幕</td>\n      <td>http://lianghui.people.com.cn/2021npc/n1/2021/...</td>\n    </tr>\n    <tr>\n      <th>194</th>\n      <td>20210311</td>\n      <td>今年两会，人民日报海外版、海外网精心策划推出“驻华大使看两会”融媒体栏目，邀请白俄罗斯、克罗...</td>\n      <td>讲述故事回应关切（融看台）</td>\n      <td>http://lianghui.people.com.cn/2021npc/n1/2021/...</td>\n    </tr>\n    <tr>\n      <th>195</th>\n      <td>20210311</td>\n      <td>凝聚砥砺奋进的精神力量本报记者易舒冉今年全国两会，我参加了“委员通道”的采访，有幸在现场看到...</td>\n      <td>务实的大会奋斗的中国</td>\n      <td>http://lianghui.people.com.cn/2021npc/n1/2021/...</td>\n    </tr>\n    <tr>\n      <th>196</th>\n      <td>20210307</td>\n      <td>健全动态监测稳定增加收入本报记者王明峰截至2020年底，四川省共有脱贫不稳定户和边缘易致贫户...</td>\n      <td>新生活新奋斗绘就壮美画卷（经济新方位·全媒看两会）</td>\n      <td>http://lianghui.people.com.cn/2021npc/n1/2021/...</td>\n    </tr>\n    <tr>\n      <th>197</th>\n      <td>20210307</td>\n      <td>据新华社北京电（记者石龙洪、周文其）多位在北京出席全国两会的港区代表委员３月5日接受新华社记...</td>\n      <td>完善选举制度是确保“一国两制”行稳致远的治本之策</td>\n      <td>http://lianghui.people.com.cn/2021npc/n1/2021/...</td>\n    </tr>\n  </tbody>\n</table>\n<p>198 rows × 4 columns</p>\n</div>"
     },
     "execution_count": 3,
     "metadata": {},
     "output_type": "execute_result"
    }
   ],
   "source": [
    "df = pd.read_csv('./articles_1.csv', encoding='utf-8')\n",
    "df"
   ],
   "metadata": {
    "collapsed": false,
    "pycharm": {
     "name": "#%%\n"
    }
   }
  },
  {
   "cell_type": "code",
   "execution_count": 7,
   "outputs": [],
   "source": [
    "daily_dict = {}\n",
    "for i in range(len(df)):\n",
    "    date = df.iloc[i, 0]\n",
    "    text = df.iloc[i, 1]\n",
    "    title = df.iloc[i, 2]\n",
    "    url = df.iloc[i, 3]\n",
    "    try:\n",
    "        daily_dict[date] = daily_dict[date] + text\n",
    "    except KeyError as e:\n",
    "        daily_dict[date] = text"
   ],
   "metadata": {
    "collapsed": false,
    "pycharm": {
     "name": "#%%\n"
    }
   }
  },
  {
   "cell_type": "code",
   "execution_count": 11,
   "outputs": [],
   "source": [
    "font = 'C:\\\\Windows\\\\Fonts\\\\YaHei Consolas Hybrid 1.12.ttf'\n",
    "mask = plt.imread('china.jpg')\n",
    "wc = wordcloud.WordCloud(background_color='white', font_path=font, mask=mask, collocations=False)\n",
    "for key, value in daily_dict.items():\n",
    "    wc.generate(value)\n",
    "    wc.to_file('./2021npc/' + str(key) + '.jpg')"
   ],
   "metadata": {
    "collapsed": false,
    "pycharm": {
     "name": "#%%\n"
    }
   }
  }
 ],
 "metadata": {
  "kernelspec": {
   "display_name": "Python 3",
   "language": "python",
   "name": "python3"
  },
  "language_info": {
   "codemirror_mode": {
    "name": "ipython",
    "version": 2
   },
   "file_extension": ".py",
   "mimetype": "text/x-python",
   "name": "python",
   "nbconvert_exporter": "python",
   "pygments_lexer": "ipython2",
   "version": "2.7.6"
  }
 },
 "nbformat": 4,
 "nbformat_minor": 0
}