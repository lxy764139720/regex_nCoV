{
 "cells": [
  {
   "cell_type": "code",
   "execution_count": 1,
   "metadata": {
    "collapsed": true
   },
   "outputs": [],
   "source": [
    "import re"
   ]
  },
  {
   "cell_type": "code",
   "execution_count": 2,
   "outputs": [],
   "source": [
    "pattern = r'[\\u4e00-\\u9fa5]*\\/v\\s*?[\\u4e00-\\u9fa5]*?\\/n\\b'\n",
    "v_n = []\n",
    "with open('199801.txt', 'r') as f:\n",
    "    for line in f.readlines():\n",
    "        text = line.strip('\\n')\n",
    "        groups = re.findall(pattern, text)\n",
    "        for g in groups:\n",
    "            v_n.append(g)"
   ],
   "metadata": {
    "collapsed": false,
    "pycharm": {
     "name": "#%%\n"
    }
   }
  },
  {
   "cell_type": "code",
   "execution_count": 3,
   "outputs": [],
   "source": [
    "with open('v_n.txt', 'w', encoding='utf-8') as f:\n",
    "    for word_group in v_n:\n",
    "        f.write(word_group + '\\n')"
   ],
   "metadata": {
    "collapsed": false,
    "pycharm": {
     "name": "#%%\n"
    }
   }
  }
 ],
 "metadata": {
  "kernelspec": {
   "display_name": "Python 3",
   "language": "python",
   "name": "python3"
  },
  "language_info": {
   "codemirror_mode": {
    "name": "ipython",
    "version": 2
   },
   "file_extension": ".py",
   "mimetype": "text/x-python",
   "name": "python",
   "nbconvert_exporter": "python",
   "pygments_lexer": "ipython2",
   "version": "2.7.6"
  }
 },
 "nbformat": 4,
 "nbformat_minor": 0
}