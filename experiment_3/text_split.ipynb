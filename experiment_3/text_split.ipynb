{
 "cells": [
  {
   "cell_type": "code",
   "execution_count": 9,
   "metadata": {
    "collapsed": true
   },
   "outputs": [],
   "source": [
    "MAXLEN = 5\n",
    "vocabulary = set()\n",
    "with open('./word_freq_list.txt', encoding='utf-8') as f:\n",
    "    for l in f.readlines():\n",
    "        vocabulary.add(l.split(' ')[1])"
   ]
  },
  {
   "cell_type": "code",
   "execution_count": 10,
   "outputs": [],
   "source": [
    "def forward_split(text):\n",
    "    split_words = []\n",
    "    while text != '':\n",
    "        sub_string = text[:MAXLEN]\n",
    "        while sub_string != '':\n",
    "            if sub_string in vocabulary or len(sub_string) == 1:\n",
    "                split_words.append(sub_string)\n",
    "                break\n",
    "            else:\n",
    "                sub_string = sub_string[:-1]\n",
    "        text = text[len(sub_string):]\n",
    "    return split_words"
   ],
   "metadata": {
    "collapsed": false,
    "pycharm": {
     "name": "#%%\n"
    }
   }
  },
  {
   "cell_type": "code",
   "execution_count": 11,
   "outputs": [],
   "source": [
    "def backward_split(text):\n",
    "    split_words = []\n",
    "    while text != '':\n",
    "        sub_string = text[-MAXLEN:]\n",
    "        while sub_string != '':\n",
    "            if sub_string in vocabulary or len(sub_string) == 1:\n",
    "                split_words.append(sub_string)\n",
    "                break\n",
    "            else:\n",
    "                sub_string = sub_string[1:]\n",
    "        text = text[:-len(sub_string)]\n",
    "    return split_words[::-1]"
   ],
   "metadata": {
    "collapsed": false,
    "pycharm": {
     "name": "#%%\n"
    }
   }
  },
  {
   "cell_type": "code",
   "execution_count": 12,
   "outputs": [],
   "source": [
    "def contrast(forward_list, backward_list):\n",
    "    forward_hit = [(1 if w in vocabulary else 0) for w in forward_list]\n",
    "    backward_hit = [(1 if w in vocabulary else 0) for w in forward_list]\n",
    "    forward_acc = sum(forward_hit) / len(forward_list)\n",
    "    backward_acc = sum(backward_hit) / len(backward_list)\n",
    "    if forward_acc > backward_acc:\n",
    "        return forward_list, forward_acc\n",
    "    elif backward_acc > forward_acc:\n",
    "        return backward_list, backward_acc\n",
    "    else:\n",
    "        forward_single = [(1 if len(w) == 1 else 0) for w in forward_list]\n",
    "        backward_single = [(1 if len(w) == 1 else 0) for w in backward_list]\n",
    "        if sum(backward_single) < sum(forward_single):\n",
    "            return backward_list, backward_acc\n",
    "        elif sum(backward_single) > sum(forward_single):\n",
    "            return forward_list, forward_acc\n",
    "        else:\n",
    "            if len(backward_list) < len(forward_list):\n",
    "                return backward_list, backward_acc\n",
    "            else:\n",
    "                return forward_list, forward_acc"
   ],
   "metadata": {
    "collapsed": false,
    "pycharm": {
     "name": "#%%\n"
    }
   }
  },
  {
   "cell_type": "code",
   "execution_count": 13,
   "outputs": [],
   "source": [
    "def evaluation(gold_string_list, predict_string_list):\n",
    "    gold_len = [len(i) for i in gold_string_list]\n",
    "    gold_set = {(sum(gold_len[:i]), sum(gold_len[:i + 1])) for i, _ in enumerate(gold_len)}\n",
    "\n",
    "    predict_len = [len(i) for i in predict_string_list]\n",
    "    predict_set = {(sum(predict_len[:i]), sum(predict_len[:i + 1])) for i, _ in enumerate(predict_len)}\n",
    "\n",
    "    intersection_set = gold_set.intersection(predict_set)\n",
    "    return len(intersection_set), len(gold_set), len(predict_set)"
   ],
   "metadata": {
    "collapsed": false,
    "pycharm": {
     "name": "#%%\n"
    }
   }
  },
  {
   "cell_type": "code",
   "execution_count": 20,
   "outputs": [],
   "source": [
    "gold_list = []\n",
    "i = 0\n",
    "with open('./pku_test_gold.txt', encoding='utf-8') as f:\n",
    "    for l in f.readlines():\n",
    "        text_string_list = l.split('。')\n",
    "        for text_string in text_string_list:\n",
    "            gold_list.append(text_string.split('  '))\n",
    "\n",
    "predict_list = []\n",
    "with open('./pku_test.txt', encoding='utf-8') as f:\n",
    "    for l in f.readlines():\n",
    "        text_string_list = l.split('。')\n",
    "        for text_string in text_string_list:\n",
    "            forward_words_list = forward_split(text_string)\n",
    "            backward_words_list = backward_split(text_string)\n",
    "            better_words_list, _ = contrast(forward_words_list, backward_words_list)\n",
    "            predict_list.append(better_words_list)"
   ],
   "metadata": {
    "collapsed": false,
    "pycharm": {
     "name": "#%%\n"
    }
   }
  },
  {
   "cell_type": "code",
   "execution_count": 23,
   "outputs": [
    {
     "data": {
      "text/plain": "['（', '新华社', '记者', '李', '昌', '元', '摄', '）', '\\n']"
     },
     "execution_count": 23,
     "metadata": {},
     "output_type": "execute_result"
    }
   ],
   "source": [
    "len(gold_list)\n",
    "predict_list[-2]"
   ],
   "metadata": {
    "collapsed": false,
    "pycharm": {
     "name": "#%%\n"
    }
   }
  },
  {
   "cell_type": "code",
   "execution_count": 24,
   "outputs": [
    {
     "name": "stdout",
     "output_type": "stream",
     "text": [
      "正确标记的个数：93508\n",
      "金标语料分词数目：109741\n",
      "输出分词数目：110174\n",
      "准确率：0.8487301904260534\n",
      "召回率：0.8520789859760709\n"
     ]
    }
   ],
   "source": [
    "intersection_num = 0\n",
    "gold_num = 0\n",
    "predict_num = 0\n",
    "for i in range(len(gold_list)):\n",
    "    intersection_num_i, gold_num_i, predict_num_i = evaluation(gold_list[i], predict_list[i])\n",
    "    intersection_num += intersection_num_i\n",
    "    gold_num += gold_num_i\n",
    "    predict_num += predict_num_i\n",
    "precision = intersection_num / predict_num\n",
    "recall = intersection_num / gold_num\n",
    "print('正确标记的个数：{}'.format(intersection_num))\n",
    "print('金标语料分词数目：{}'.format(gold_num))\n",
    "print('输出分词数目：{}'.format(predict_num))\n",
    "print('准确率：{}'.format(precision))\n",
    "print('召回率：{}'.format(recall))\n"
   ],
   "metadata": {
    "collapsed": false,
    "pycharm": {
     "name": "#%%\n"
    }
   }
  }
 ],
 "metadata": {
  "kernelspec": {
   "display_name": "Python 3",
   "language": "python",
   "name": "python3"
  },
  "language_info": {
   "codemirror_mode": {
    "name": "ipython",
    "version": 2
   },
   "file_extension": ".py",
   "mimetype": "text/x-python",
   "name": "python",
   "nbconvert_exporter": "python",
   "pygments_lexer": "ipython2",
   "version": "2.7.6"
  }
 },
 "nbformat": 4,
 "nbformat_minor": 0
}